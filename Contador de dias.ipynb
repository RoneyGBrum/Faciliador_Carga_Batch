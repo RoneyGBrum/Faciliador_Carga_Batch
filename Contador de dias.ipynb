{
 "cells": [
  {
   "cell_type": "code",
   "execution_count": 1,
   "id": "b1721655",
   "metadata": {},
   "outputs": [],
   "source": [
    "import numpy as np"
   ]
  },
  {
   "cell_type": "code",
   "execution_count": null,
   "id": "3f42e5d1",
   "metadata": {},
   "outputs": [
    {
     "name": "stdout",
     "output_type": "stream",
     "text": [
      "ESTE PROGRAMA TEM A ÚNICA FINALIDE DE RELACIONAR OS DIAS DENTRO DO INTERVADO INFORMADO\n",
      "\n",
      "----------------------------------------------------------------------------------\n",
      "\n",
      "PARA COPIAR O RESULTADO, SELECIONE (SEGURANDO O BOTÃO ESQUERDO DO MOUSE)\n",
      "APÓS SELECIONADO, BASTA CLICAR COM O BOTÃO DIREITO)\n",
      "PRONTO, O RESULTADO JÁ ESTÁ NA ÁREA DE TRANSFERÊNCIA)\n",
      "EM SEGUIDA, COLAR NO LOCAL DESEJADO!)\n",
      "\n",
      "----------------------------------------------------------------------------------\n",
      "\n",
      "INFORME O PERÍODO:\n",
      "\n"
     ]
    }
   ],
   "source": [
    "print(\"ESTE PROGRAMA TEM A ÚNICA FINALIDE DE RELACIONAR OS DIAS DENTRO DO INTERVADO INFORMADO\")\n",
    "print(\"\")\n",
    "print(\"----------------------------------------------------------------------------------\")   \n",
    "print(\"\") \n",
    "print(\"PARA COPIAR O RESULTADO, SELECIONE (SEGURANDO O BOTÃO ESQUERDO DO MOUSE)\")\n",
    "print(\"APÓS SELECIONADO, BASTA CLICAR COM O BOTÃO DIREITO)\") \n",
    "print(\"PRONTO, O RESULTADO JÁ ESTÁ NA ÁREA DE TRANSFERÊNCIA)\")\n",
    "print(\"EM SEGUIDA, COLAR NO LOCAL DESEJADO!)\")\n",
    "print(\"\")\n",
    "print(\"----------------------------------------------------------------------------------\")\n",
    "print(\"\")\n",
    "print(\"INFORME O PERÍODO:\")\n",
    "print(\"\")\n",
    "continuar = \"S\"\n",
    "\n",
    "while continuar == \"S\":\n",
    "\n",
    "    inicio = int(input(\"Dia inicio: \"))\n",
    "    fim = int(input(\"Dia fim: \"))\n",
    "    print(\"\")\n",
    "    print(\"---------------------------------------\")\n",
    "    print(\"\")\n",
    "    resultado = str(list(np.arange(inicio,fim)))\n",
    "    if len(str(inicio)) < 2:\n",
    "        print(\" \",resultado[2:-1],\",\")\n",
    "    else:\n",
    "        print(\" \",resultado[3:-1],\",\")\n",
    "    print(\"\")\n",
    "    print(\"---------------------------------------\")\n",
    "    print(\"\")\n",
    "    resultado = 0\n",
    "    "
   ]
  },
  {
   "cell_type": "code",
   "execution_count": null,
   "id": "8c8d6c1d",
   "metadata": {},
   "outputs": [],
   "source": []
  }
 ],
 "metadata": {
  "kernelspec": {
   "display_name": "Python 3 (ipykernel)",
   "language": "python",
   "name": "python3"
  },
  "language_info": {
   "codemirror_mode": {
    "name": "ipython",
    "version": 3
   },
   "file_extension": ".py",
   "mimetype": "text/x-python",
   "name": "python",
   "nbconvert_exporter": "python",
   "pygments_lexer": "ipython3",
   "version": "3.10.6"
  }
 },
 "nbformat": 4,
 "nbformat_minor": 5
}
