{
 "cells": [
  {
   "cell_type": "code",
   "execution_count": 378,
   "id": "abe4f3ed",
   "metadata": {},
   "outputs": [
    {
     "name": "stdout",
     "output_type": "stream",
     "text": [
      "POR FAVOR, AGUARDE ALGUNS INSTANTES...\n",
      "\n",
      "--------------------------------------\n",
      "\n",
      "QUANDO A JANELA DE SELEÇÃO ABRIR, SELECIONE A PLANILHA DE REFERÊNCIA (arquivo enviado pelo Eduardo)\n",
      "\n",
      "--------------------------------------\n",
      "\n"
     ]
    }
   ],
   "source": [
    "print(\"POR FAVOR, AGUARDE ALGUNS INSTANTES...\")\n",
    "print(\"\")\n",
    "print(\"--------------------------------------\")\n",
    "print(\"\")\n",
    "print(\"QUANDO A JANELA DE SELEÇÃO ABRIR, SELECIONE A PLANILHA DE REFERÊNCIA (arquivo enviado pelo Eduardo)\")\n",
    "print(\"\")\n",
    "print(\"--------------------------------------\")\n",
    "print(\"\")\n",
    "print(\"ANTES DE CONFIRMAR A EXECUÇÃO, CONFIRME SE OS PERÍODOS ESTÃO CONFORME O PADRÃO\")\n",
    "print(\"\")\n",
    "print(\"--------------------------------------\")\n",
    "print(\"\")"
   ]
  },
  {
   "cell_type": "code",
   "execution_count": 379,
   "id": "8c7c83a7",
   "metadata": {},
   "outputs": [],
   "source": [
    "import pandas as pd\n",
    "import numpy as np\n",
    "from tkinter import *                   # biblioteca para interação com o usuário\n",
    "import tkinter.filedialog               # biblioteca para interação com o usuário\n",
    "from tkinter import messagebox          # biblioteca para interação com o usuário\n",
    "import warnings                         # biblioteca não mostrar mensagens de alerta do pandas\n",
    "warnings.filterwarnings('ignore')       # Chamando a biblioteca não mostrar mensagens de alerta do pandas\n",
    "from datetime import datetime, date     # Bibliteca para encontrar o dia "
   ]
  },
  {
   "cell_type": "code",
   "execution_count": 905,
   "id": "33692f97",
   "metadata": {},
   "outputs": [],
   "source": [
    "# Dar a opção para que o usuário selecione o arquivo desejado\n",
    "root= Tk()\n",
    "nome_arquivo = tkinter.filedialog.askopenfilename(title = \"Selecione o Arquivo de Referência (enviado pelo Eduardo)\")\n",
    "root.destroy()"
   ]
  },
  {
   "cell_type": "code",
   "execution_count": 666,
   "id": "6b187cc7",
   "metadata": {},
   "outputs": [
    {
     "name": "stdout",
     "output_type": "stream",
     "text": [
      "POR FAVOR, AGUARDE ALGUNS INSTANTES...\n",
      "\n",
      "--------------------------------------\n",
      "\n"
     ]
    }
   ],
   "source": [
    "print(\"POR FAVOR, AGUARDE ALGUNS INSTANTES...\")\n",
    "print(\"\")\n",
    "print(\"--------------------------------------\")\n",
    "print(\"\")"
   ]
  },
  {
   "cell_type": "code",
   "execution_count": 906,
   "id": "a05bed31",
   "metadata": {},
   "outputs": [],
   "source": [
    "# definição da variável com o arquivo selecionado pelo usuário\n",
    "df =  pd.read_excel(nome_arquivo)"
   ]
  },
  {
   "cell_type": "code",
   "execution_count": 907,
   "id": "68a9db17",
   "metadata": {},
   "outputs": [],
   "source": [
    "# Transformando a relação nominal dos responsáveis em lista para que seja utilizado como referência de filtro no comando abaixo\n",
    "lista_nomes = list(df[\"RESPONSÁVEL\"].unique())"
   ]
  },
  {
   "cell_type": "code",
   "execution_count": 908,
   "id": "52f29753",
   "metadata": {},
   "outputs": [
    {
     "name": "stdout",
     "output_type": "stream",
     "text": [
      "QUAL O SEU NOME (conforme consta na primeira coluna da Planilha): romilda\n"
     ]
    }
   ],
   "source": [
    "# Solicitação que o usuário informe o seu nome para que o df seja referente somente a parte de sua responsabilidade\n",
    "nome = input(\"QUAL O SEU NOME (conforme consta na primeira coluna da Planilha): \").upper()\n",
    "# enquanto o usuário não escrever o nome corretamente, a mensagem se repetirá, até que o usuário escreva de forma correta\n",
    "while nome not in lista_nomes:\n",
    "            print(\"VERIFIQUE O NOME DIGITADO E TENTE NOVAMENTE\")\n",
    "            nome = input(\"QUAL O SEU NOME: \").upper()\n"
   ]
  },
  {
   "cell_type": "code",
   "execution_count": 909,
   "id": "bbec8344",
   "metadata": {},
   "outputs": [
    {
     "name": "stdout",
     "output_type": "stream",
     "text": [
      "INFORME O NÚMERO DO SEU CPF (somente números): 02274121176\n",
      "INFORME O ANO MÊS REFERÊNCIA (aaaamm): 202208\n"
     ]
    }
   ],
   "source": [
    "# CPF e mês de referência têm a finalidade de acrescentar essa informação no aquivo final \n",
    "cpf = str(input(\"INFORME O NÚMERO DO SEU CPF (somente números): \" ))\n",
    "mes_ref = str(input(\"INFORME O ANO MÊS REFERÊNCIA (aaaamm): \"))"
   ]
  },
  {
   "cell_type": "code",
   "execution_count": 910,
   "id": "cacf570e",
   "metadata": {},
   "outputs": [],
   "source": [
    "# De acordo com o ano mes informado, será definido quantos dias o mês possui\n",
    "if (mes_ref[4:] == \"04\") or (mes_ref[4:] == \"06\") or (mes_ref[4:] == \"09\") or (mes_ref[4:] == \"11\"):\n",
    "    mes = 30\n",
    "if (mes_ref[4:] == \"01\") or (mes_ref[4:] == \"03\") or (mes_ref[4:] == \"05\") or (mes_ref[4:] == \"07\") or (mes_ref[4:] == \"08\") or (mes_ref[4:] == \"10\")or (mes_ref[4:] == \"12\"):\n",
    "    mes = 31\n",
    "if (mes_ref[4:] == \"02\"):\n",
    "    mes = 28"
   ]
  },
  {
   "cell_type": "code",
   "execution_count": 911,
   "id": "980445b3",
   "metadata": {},
   "outputs": [],
   "source": [
    "# filtrando pelo nome para que o df seja referente somente a parte de sua responsabilidade\n",
    "df = df.loc[df[\"RESPONSÁVEL\"] == nome, [\"NOME\", \"MATRÍCULA\", \"PERÍODO DO TELETRABALHO (De acordo com o Relatório de Frequência SEI enviado pela Unidade)\", \"SITUAÇÃO SIAPE\"]].reset_index()\n",
    "# se houver alguma coisa escrita na coluna SITAÇÃO SIAPE, o programa não fará a leitura da linha\n",
    "# isso serve para que, caso o usuário já tenha feito o registro anteriormente, não seja feito novamente\n",
    "df = df.loc[df[\"SITUAÇÃO SIAPE\"].isnull(), :]"
   ]
  },
  {
   "cell_type": "code",
   "execution_count": 912,
   "id": "76df3cc7",
   "metadata": {},
   "outputs": [],
   "source": [
    "# renomeando colunas\n",
    "df.rename(columns={\"MATRÍCULA\":\"MATRICULA\", \n",
    "                  \"PERÍODO DO TELETRABALHO (De acordo com o Relatório de Frequência SEI enviado pela Unidade)\": \"PERIODO\"}, inplace=True)"
   ]
  },
  {
   "cell_type": "code",
   "execution_count": 913,
   "id": "4480af03",
   "metadata": {},
   "outputs": [],
   "source": [
    "# armazenando o nome e matrícula do servidor para fazer o \"merge\" mais a frente\n",
    "armazem_nome = df[[\"NOME\", \"MATRICULA\"]]"
   ]
  },
  {
   "cell_type": "code",
   "execution_count": 914,
   "id": "dfa38054",
   "metadata": {},
   "outputs": [],
   "source": [
    "# excluindo colunas desnecessárias \n",
    "df = df.drop([\"index\",\"SITUAÇÃO SIAPE\"], axis = 1) "
   ]
  },
  {
   "cell_type": "code",
   "execution_count": 915,
   "id": "28228ede",
   "metadata": {
    "scrolled": true
   },
   "outputs": [],
   "source": [
    "# Considerando a necessidade de manter um padrão na quantidade total de dias no mês, cria-se, temporariamente, um novo servidor\n",
    "# Neste, por sua vez, constará registro de afastamento todos os dias do mês. A quantidade varia, conforme o mês (29, 30, 31) \n",
    "temp = pd.DataFrame([{\"NOME\": \"xxxxxxx\",\"MATRICULA\": 9999999,\"PERIODO\": str(list(np.arange(1,mes+1)))}])\n",
    "# Considerando a o resultdo do PERÍODO é uma lista, retira-se os colhetes\n",
    "temp[\"PERIODO\"] = temp[\"PERIODO\"].str.replace(\"[\", \"\")\n",
    "temp[\"PERIODO\"] = temp[\"PERIODO\"].str.replace(\"]\", \"\")"
   ]
  },
  {
   "cell_type": "code",
   "execution_count": 916,
   "id": "b13d6a3b",
   "metadata": {},
   "outputs": [],
   "source": [
    "# A coluna PERÍODO pode ter várias formas de apresentação. A fim de padronizar o inervalo dos dias, toda separação será por \",\"\n",
    "df[\"PERIODO\"] = df[\"PERIODO\"].str.replace(\"DE\", \"\")\n",
    "df[\"PERIODO\"] = df[\"PERIODO\"].str.replace(\"De\", \"\")\n",
    "df[\"PERIODO\"] = df[\"PERIODO\"].str.replace(\"de\", \"\")\n",
    "df[\"PERIODO\"] = df[\"PERIODO\"].str.replace(\"dE\", \"\")\n",
    "df[\"PERIODO\"] = df[\"PERIODO\"].str.replace(\"EM\", \"\")\n",
    "df[\"PERIODO\"] = df[\"PERIODO\"].str.replace(\"Em\", \"\")\n",
    "df[\"PERIODO\"] = df[\"PERIODO\"].str.replace(\"em\", \"\")\n",
    "df[\"PERIODO\"] = df[\"PERIODO\"].str.replace(\";\", \",\")\n",
    "df[\"PERIODO\"] = df[\"PERIODO\"].str.replace(\"e\", \",\")\n",
    "df[\"PERIODO\"] = df[\"PERIODO\"].str.replace(\"E\", \",\")\n",
    "df[\"PERIODO\"] = df[\"PERIODO\"].str.replace(\".\", \",\")\n",
    "df[\"PERIODO\"] = df[\"PERIODO\"].str.replace(\"'\", \"\")\n"
   ]
  },
  {
   "cell_type": "code",
   "execution_count": 917,
   "id": "3b15804b",
   "metadata": {},
   "outputs": [],
   "source": [
    "# Para garantir que o split (separação) funcione corretamente, faz-se a união entre o arquivo temporário (servidor fictício)\n",
    "# com o df original (que nem sempre terá todos os dias do mês para registrar)\n",
    "df = pd.concat([temp,df])"
   ]
  },
  {
   "cell_type": "code",
   "execution_count": 918,
   "id": "30e81b30",
   "metadata": {},
   "outputs": [],
   "source": [
    "# O Split será feito em quantitade de acordo com o número de dias do mês. A Separação considera a \",\" como referência\n",
    "if mes == 31:\n",
    "    df[[1,2,3,4,5,6,7,8,9, 10, 11, 12, 13, 14, 15, 16, 17, 18, 19, 20, 21, 22, 23, 24, 25, 26, 27, 28, 29, 30, 31]] = df[\"PERIODO\"].str.split(\",\", expand=True)\n",
    "\n",
    "if mes == 30:\n",
    "    df[[1,2,3,4,5,6,7,8,9, 10, 11, 12, 13, 14, 15, 16, 17, 18, 19, 20, 21, 22, 23, 24, 25, 26, 27, 28, 29, 30]] = df[\"PERIODO\"].str.split(\",\", expand=True)\n",
    "\n",
    "if mes == 29:\n",
    "    df[[1,2,3,4,5,6,7,8,9, 10, 11, 12, 13, 14, 15, 16, 17, 18, 19, 20, 21, 22, 23, 24, 25, 26, 27, 28, 29]] = df[\"PERIODO\"].str.split(\",\", expand=True)\n",
    "\n",
    "if mes == 28:\n",
    "    df[[1,2,3,4,5,6,7,8,9, 10, 11, 12, 13, 14, 15, 16, 17, 18, 19, 20, 21, 22, 23, 24, 25, 26, 27, 28]] = df[\"PERIODO\"].str.split(\",\", expand=True)"
   ]
  },
  {
   "cell_type": "code",
   "execution_count": 919,
   "id": "2c0a0513",
   "metadata": {},
   "outputs": [],
   "source": [
    "# Exclusão de colunas desnecessárias\n",
    "df = df.drop([\"NOME\", \"PERIODO\"], axis = 1) "
   ]
  },
  {
   "cell_type": "code",
   "execution_count": 920,
   "id": "c48b58ac",
   "metadata": {},
   "outputs": [],
   "source": [
    "# Transformando as colunas, que já possuem em cada uma um único dia, em uma única coluna \n",
    "df = pd.melt(df, id_vars = [\"MATRICULA\"], value_vars = df.columns, var_name = \"PERIODO\", value_name = \"Dia Inicio\")"
   ]
  },
  {
   "cell_type": "code",
   "execution_count": 921,
   "id": "4d2ecba2",
   "metadata": {},
   "outputs": [],
   "source": [
    "# Retirando espaços indesejados (início ou fim de cada valor)\n",
    "df[\"Dia Inicio\"] = df[\"Dia Inicio\"].str.strip()"
   ]
  },
  {
   "cell_type": "code",
   "execution_count": 922,
   "id": "6a2ea763",
   "metadata": {},
   "outputs": [],
   "source": [
    "# Retirando espaços entre os valores para padronização\n",
    "df[\"Dia Inicio\"] = df[\"Dia Inicio\"].str.replace(\" \", \"\")\n",
    "df[\"Dia Inicio\"] = df[\"Dia Inicio\"].str.replace(\"  \", \"\")\n",
    "df[\"Dia Inicio\"] = df[\"Dia Inicio\"].str.replace(\"   \", \"\")\n",
    "df[\"Dia Inicio\"] = df[\"Dia Inicio\"].str.replace(\"    \", \"\")\n",
    "df[\"Dia Inicio\"] = df[\"Dia Inicio\"].str.replace(\"     \", \"\")"
   ]
  },
  {
   "cell_type": "code",
   "execution_count": 923,
   "id": "2c349e41",
   "metadata": {},
   "outputs": [],
   "source": [
    "# Considerando que nem sempre haverá \"/\" na informação, neste momento, estamos criando data com barras para que não ocorra erro\n",
    "# O erro é possível de aconteler no momento do split (mais a frente), caso não encontre nenhuma barra (poderia utilizar o Try?)\n",
    "temp2 = pd.DataFrame([{\"MATRICULA\": 9999999,\"Dia Inicio\": \"01/01/11\"}])"
   ]
  },
  {
   "cell_type": "code",
   "execution_count": 924,
   "id": "7a9ede61",
   "metadata": {},
   "outputs": [],
   "source": [
    "# Para garantir que o split (separação) funcione corretamente, faz-se a união entre o arquivo temporário e o df original\n",
    "df = pd.concat([temp2,df])"
   ]
  },
  {
   "cell_type": "code",
   "execution_count": 925,
   "id": "625e60ca",
   "metadata": {},
   "outputs": [],
   "source": [
    "# realização do split, considerando a \"/\" como delimitador\n",
    "df[[\"Dia Inicio\", \"excluir1\", \"excluir2\"]] = df[\"Dia Inicio\"].str.split(\"/\", expand=True)"
   ]
  },
  {
   "cell_type": "code",
   "execution_count": 926,
   "id": "b75445b2",
   "metadata": {},
   "outputs": [],
   "source": [
    "# Exclusão de colunas desnecessárias, que são as informações após as barras (que, via de regra, são o mês e/ou o ano)\n",
    "df = df.drop([\"excluir1\", \"excluir2\"], axis = 1) "
   ]
  },
  {
   "cell_type": "code",
   "execution_count": 927,
   "id": "be19124e",
   "metadata": {},
   "outputs": [],
   "source": [
    "# Para o resultado final é preciso ter a informaçao do \"0\" antes do dígito menor que 10, realiza-se a substituição\n",
    "df.loc[df[\"Dia Inicio\"] == \"1\", \"Dia Inicio\"] = \"01\"\n",
    "df.loc[df[\"Dia Inicio\"] == \"2\", \"Dia Inicio\"] = \"02\"\n",
    "df.loc[df[\"Dia Inicio\"] == \"3\", \"Dia Inicio\"] = \"03\"\n",
    "df.loc[df[\"Dia Inicio\"] == \"4\", \"Dia Inicio\"] = \"04\"\n",
    "df.loc[df[\"Dia Inicio\"] == \"5\", \"Dia Inicio\"] = \"05\"\n",
    "df.loc[df[\"Dia Inicio\"] == \"6\", \"Dia Inicio\"] = \"06\"\n",
    "df.loc[df[\"Dia Inicio\"] == \"7\", \"Dia Inicio\"] = \"07\"\n",
    "df.loc[df[\"Dia Inicio\"] == \"8\", \"Dia Inicio\"] = \"08\"\n",
    "df.loc[df[\"Dia Inicio\"] == \"9\", \"Dia Inicio\"] = \"09\""
   ]
  },
  {
   "cell_type": "code",
   "execution_count": 928,
   "id": "34f2046f",
   "metadata": {},
   "outputs": [],
   "source": [
    "# padronização para que todas as letras fiquem minúsculas\n",
    "df[\"Dia Inicio\"] = df[\"Dia Inicio\"].str.replace(\"A\", \"a\")\n",
    "df[\"Dia Inicio\"] = df[\"Dia Inicio\"].str.replace(\"À\", \"a\")\n",
    "df[\"Dia Inicio\"] = df[\"Dia Inicio\"].str.replace(\"Á\", \"a\")\n",
    "df[\"Dia Inicio\"] = df[\"Dia Inicio\"].str.replace(\"á\", \"a\")\n",
    "df[\"Dia Inicio\"] = df[\"Dia Inicio\"].str.replace(\"à\", \"a\")"
   ]
  },
  {
   "cell_type": "code",
   "execution_count": 929,
   "id": "677c4d90",
   "metadata": {},
   "outputs": [],
   "source": [
    "# criação de df somente com os dias que possuem o \"a\" para separação\n",
    "df2 = df.drop(df.loc[(df[\"Dia Inicio\"] == \"01\")|(df[\"Dia Inicio\"] == \"02\")|(df[\"Dia Inicio\"] == \"03\")|(df[\"Dia Inicio\"] == \"04\")|\n",
    "            (df[\"Dia Inicio\"] == \"05\")|(df[\"Dia Inicio\"] == \"06\")|(df[\"Dia Inicio\"] == \"07\")|(df[\"Dia Inicio\"] == \"08\")|\n",
    "            (df[\"Dia Inicio\"] == \"09\")|(df[\"Dia Inicio\"] == \"10\")|(df[\"Dia Inicio\"] == \"11\")|(df[\"Dia Inicio\"] == \"12\")|\n",
    "            (df[\"Dia Inicio\"] == \"13\")|(df[\"Dia Inicio\"] == \"14\")|(df[\"Dia Inicio\"] == \"15\")|(df[\"Dia Inicio\"] == \"16\")|\n",
    "            (df[\"Dia Inicio\"] == \"17\")|(df[\"Dia Inicio\"] == \"18\")|(df[\"Dia Inicio\"] == \"19\")|(df[\"Dia Inicio\"] == \"20\")|\n",
    "            (df[\"Dia Inicio\"] == \"21\")|(df[\"Dia Inicio\"] == \"22\")|(df[\"Dia Inicio\"] == \"23\")|(df[\"Dia Inicio\"] == \"24\")|\n",
    "            (df[\"Dia Inicio\"] == \"25\")|(df[\"Dia Inicio\"] == \"26\")|(df[\"Dia Inicio\"] == \"27\")|(df[\"Dia Inicio\"] == \"28\")|\n",
    "            (df[\"Dia Inicio\"] == \"29\")|(df[\"Dia Inicio\"] == \"30\")|(df[\"Dia Inicio\"] == \"31\")\n",
    "            ].index)"
   ]
  },
  {
   "cell_type": "code",
   "execution_count": 930,
   "id": "ed1037fe",
   "metadata": {},
   "outputs": [],
   "source": [
    "# expandindo e seperando em cada coluna os dias que estavam com \"a\"\n",
    "df2[[\"Dia Inicio\",\"Dia Fim\"]] =df2[\"Dia Inicio\"].str.split(\"a\", expand=True)"
   ]
  },
  {
   "cell_type": "code",
   "execution_count": 931,
   "id": "f45250cd",
   "metadata": {},
   "outputs": [],
   "source": [
    "# Para o resultado final é preciso ter a informaçao do \"0\" antes do dígito menor que 10, realiza-se a substituição\n",
    "df2.loc[df2[\"Dia Inicio\"] == \"1\", \"Dia Inicio\"] = \"01\"\n",
    "df2.loc[df2[\"Dia Inicio\"] == \"2\", \"Dia Inicio\"] = \"02\"\n",
    "df2.loc[df2[\"Dia Inicio\"] == \"3\", \"Dia Inicio\"] = \"03\"\n",
    "df2.loc[df2[\"Dia Inicio\"] == \"4\", \"Dia Inicio\"] = \"04\"\n",
    "df2.loc[df2[\"Dia Inicio\"] == \"5\", \"Dia Inicio\"] = \"05\"\n",
    "df2.loc[df2[\"Dia Inicio\"] == \"6\", \"Dia Inicio\"] = \"06\"\n",
    "df2.loc[df2[\"Dia Inicio\"] == \"7\", \"Dia Inicio\"] = \"07\"\n",
    "df2.loc[df2[\"Dia Inicio\"] == \"8\", \"Dia Inicio\"] = \"08\"\n",
    "df2.loc[df2[\"Dia Inicio\"] == \"9\", \"Dia Inicio\"] = \"09\"\n",
    "df2.loc[df2[\"Dia Fim\"] == \"1\", \"Dia Fim\"] = \"01\"\n",
    "df2.loc[df2[\"Dia Fim\"] == \"2\", \"Dia Fim\"] = \"02\"\n",
    "df2.loc[df2[\"Dia Fim\"] == \"3\", \"Dia Fim\"] = \"03\"\n",
    "df2.loc[df2[\"Dia Fim\"] == \"4\", \"Dia Fim\"] = \"04\"\n",
    "df2.loc[df2[\"Dia Fim\"] == \"5\", \"Dia Fim\"] = \"05\"\n",
    "df2.loc[df2[\"Dia Fim\"] == \"6\", \"Dia Fim\"] = \"06\"\n",
    "df2.loc[df2[\"Dia Fim\"] == \"7\", \"Dia Fim\"] = \"07\"\n",
    "df2.loc[df2[\"Dia Fim\"] == \"8\", \"Dia Fim\"] = \"08\"\n",
    "df2.loc[df2[\"Dia Fim\"] == \"9\", \"Dia Fim\"] = \"09\""
   ]
  },
  {
   "cell_type": "code",
   "execution_count": 932,
   "id": "a6e0e1a6",
   "metadata": {},
   "outputs": [],
   "source": [
    "# criação de df somente com os números que estão individuais e serão repetidos na data fim\n",
    "df = df.loc[\n",
    "            (df[\"Dia Inicio\"] == \"01\")|(df[\"Dia Inicio\"] == \"02\")|(df[\"Dia Inicio\"] == \"03\")|(df[\"Dia Inicio\"] == \"04\")|\n",
    "            (df[\"Dia Inicio\"] == \"05\")|(df[\"Dia Inicio\"] == \"06\")|(df[\"Dia Inicio\"] == \"07\")|(df[\"Dia Inicio\"] == \"08\")|\n",
    "            (df[\"Dia Inicio\"] == \"09\")|(df[\"Dia Inicio\"] == \"10\")|(df[\"Dia Inicio\"] == \"11\")|(df[\"Dia Inicio\"] == \"12\")|\n",
    "            (df[\"Dia Inicio\"] == \"13\")|(df[\"Dia Inicio\"] == \"14\")|(df[\"Dia Inicio\"] == \"15\")|(df[\"Dia Inicio\"] == \"16\")|\n",
    "            (df[\"Dia Inicio\"] == \"17\")|(df[\"Dia Inicio\"] == \"18\")|(df[\"Dia Inicio\"] == \"19\")|(df[\"Dia Inicio\"] == \"20\")|\n",
    "            (df[\"Dia Inicio\"] == \"21\")|(df[\"Dia Inicio\"] == \"22\")|(df[\"Dia Inicio\"] == \"23\")|(df[\"Dia Inicio\"] == \"24\")|\n",
    "            (df[\"Dia Inicio\"] == \"25\")|(df[\"Dia Inicio\"] == \"26\")|(df[\"Dia Inicio\"] == \"27\")|(df[\"Dia Inicio\"] == \"28\")|\n",
    "            (df[\"Dia Inicio\"] == \"29\")|(df[\"Dia Inicio\"] == \"30\")|(df[\"Dia Inicio\"] == \"31\")]"
   ]
  },
  {
   "cell_type": "code",
   "execution_count": 933,
   "id": "9886f1a5",
   "metadata": {},
   "outputs": [],
   "source": [
    "# Como cada dia será um registro e é preciso informar o dia início e o dia fim, faz-se uma cópia do dia início (q tb é o fim)\n",
    "df[\"Dia Fim\"] = df[\"Dia Inicio\"]"
   ]
  },
  {
   "cell_type": "code",
   "execution_count": 934,
   "id": "12b32570",
   "metadata": {},
   "outputs": [],
   "source": [
    "# Após o tratamento dos que tinham ou não o \"a\",junta-se os dois DFs\n",
    "df = pd.concat([df, df2])"
   ]
  },
  {
   "cell_type": "code",
   "execution_count": 935,
   "id": "67cdfa21",
   "metadata": {},
   "outputs": [],
   "source": [
    "# Ordenação dos valores\n",
    "df = df.sort_values(by=[\"MATRICULA\", \"PERIODO\", \"Dia Inicio\"])"
   ]
  },
  {
   "cell_type": "code",
   "execution_count": 936,
   "id": "d0d0ca57",
   "metadata": {},
   "outputs": [],
   "source": [
    "# Retirando espaços indesejados, que podem ter aparecido após o último split\n",
    "df[\"Dia Inicio\"] = df[\"Dia Inicio\"].str.strip()\n",
    "df[\"Dia Fim\"] = df[\"Dia Fim\"].str.strip()"
   ]
  },
  {
   "cell_type": "code",
   "execution_count": 937,
   "id": "65f45cf4",
   "metadata": {},
   "outputs": [],
   "source": [
    "# Para o resultado final, espera-se somente número (de 01 a 31 no máximo). Qualquer valor fora disso é excluído\n",
    "df = df.loc[\n",
    "            (df[\"Dia Inicio\"] == \"01\")|(df[\"Dia Inicio\"] == \"02\")|(df[\"Dia Inicio\"] == \"03\")|(df[\"Dia Inicio\"] == \"04\")|\n",
    "            (df[\"Dia Inicio\"] == \"05\")|(df[\"Dia Inicio\"] == \"06\")|(df[\"Dia Inicio\"] == \"07\")|(df[\"Dia Inicio\"] == \"08\")|\n",
    "            (df[\"Dia Inicio\"] == \"09\")|(df[\"Dia Inicio\"] == \"10\")|(df[\"Dia Inicio\"] == \"11\")|(df[\"Dia Inicio\"] == \"12\")|\n",
    "            (df[\"Dia Inicio\"] == \"13\")|(df[\"Dia Inicio\"] == \"14\")|(df[\"Dia Inicio\"] == \"15\")|(df[\"Dia Inicio\"] == \"16\")|\n",
    "            (df[\"Dia Inicio\"] == \"17\")|(df[\"Dia Inicio\"] == \"18\")|(df[\"Dia Inicio\"] == \"19\")|(df[\"Dia Inicio\"] == \"20\")|\n",
    "            (df[\"Dia Inicio\"] == \"21\")|(df[\"Dia Inicio\"] == \"22\")|(df[\"Dia Inicio\"] == \"23\")|(df[\"Dia Inicio\"] == \"24\")|\n",
    "            (df[\"Dia Inicio\"] == \"25\")|(df[\"Dia Inicio\"] == \"26\")|(df[\"Dia Inicio\"] == \"27\")|(df[\"Dia Inicio\"] == \"28\")|\n",
    "            (df[\"Dia Inicio\"] == \"29\")|(df[\"Dia Inicio\"] == \"30\")|(df[\"Dia Inicio\"] == \"31\")|\n",
    "            (df[\"Dia Inicio\"] == 1)|(df[\"Dia Inicio\"] == 2)|(df[\"Dia Inicio\"] == 3)|(df[\"Dia Inicio\"] == 4)|\n",
    "            (df[\"Dia Inicio\"] == 5)|(df[\"Dia Inicio\"] == 6)|(df[\"Dia Inicio\"] == 7)|(df[\"Dia Inicio\"] == 8)|\n",
    "            (df[\"Dia Inicio\"] == 9)|(df[\"Dia Inicio\"] == 10)|(df[\"Dia Inicio\"] == 11)|(df[\"Dia Inicio\"] == 12)|\n",
    "            (df[\"Dia Inicio\"] == 13)|(df[\"Dia Inicio\"] == 14)|(df[\"Dia Inicio\"] == 15)|(df[\"Dia Inicio\"] == 16)|\n",
    "            (df[\"Dia Inicio\"] == 17)|(df[\"Dia Inicio\"] == 18)|(df[\"Dia Inicio\"] == 19)|(df[\"Dia Inicio\"] == 20)|\n",
    "            (df[\"Dia Inicio\"] == 21)|(df[\"Dia Inicio\"] == 22)|(df[\"Dia Inicio\"] == 23)|(df[\"Dia Inicio\"] == 24)|\n",
    "            (df[\"Dia Inicio\"] == 25)|(df[\"Dia Inicio\"] == 26)|(df[\"Dia Inicio\"] == 27)|(df[\"Dia Inicio\"] == 28)|\n",
    "            (df[\"Dia Inicio\"] == 29)|(df[\"Dia Inicio\"] == 30)|(df[\"Dia Inicio\"] == 31)\n",
    "           ]"
   ]
  },
  {
   "cell_type": "code",
   "execution_count": 938,
   "id": "e1ffdc3d",
   "metadata": {},
   "outputs": [],
   "source": [
    "# Retirando espaços indesejados (novamente)\n",
    "df[\"Dia Inicio\"] = df[\"Dia Inicio\"].str.strip()\n",
    "df[\"Dia Fim\"] = df[\"Dia Fim\"].str.strip()"
   ]
  },
  {
   "cell_type": "code",
   "execution_count": 939,
   "id": "66cb2ac8",
   "metadata": {},
   "outputs": [],
   "source": [
    "# para visualizar o nome do servidor e confirmar a informação, faz-se um \"merge\" com os nomes guardados anteriormente\n",
    "df = pd.merge(df, armazem_nome, on=\"MATRICULA\", how=\"left\")"
   ]
  },
  {
   "cell_type": "code",
   "execution_count": 940,
   "id": "1c105304",
   "metadata": {},
   "outputs": [],
   "source": [
    "# Nova ordenação \n",
    "df = df.sort_values(by=[\"NOME\", \"Dia Inicio\"])"
   ]
  },
  {
   "cell_type": "code",
   "execution_count": 941,
   "id": "7455006f",
   "metadata": {},
   "outputs": [],
   "source": [
    "# inclusão de colunas com informações necessárias para a elaboração do arquivo final\n",
    "df[\"Padrao\"] = \"1\"\n",
    "df[\"CPF\"] = cpf\n",
    "df[\"ORGAO\"] = \"37000\"\n",
    "df[\"Ano_mes_inicio\"] = mes_ref\n",
    "df[\"Ano_mes_fim\"] = mes_ref\n",
    "df[\"Cod_Afast\"] = \"0390\"\n"
   ]
  },
  {
   "cell_type": "code",
   "execution_count": 942,
   "id": "1e59d620",
   "metadata": {},
   "outputs": [],
   "source": [
    "# Ordenação das colunas\n",
    "df = df[[\"NOME\", \"Padrao\", \"CPF\", \"ORGAO\", \"MATRICULA\", \"Ano_mes_inicio\", \"Dia Inicio\",\n",
    "        \"Ano_mes_fim\", \"Dia Fim\", \"Cod_Afast\"]]"
   ]
  },
  {
   "cell_type": "code",
   "execution_count": 943,
   "id": "51d85adc",
   "metadata": {},
   "outputs": [],
   "source": [
    "# Transformando o tipo da coluna matrícula para possibilitar a inclusão dos \"0\"s naquelas que possuem menos que 7 dígitos\n",
    "df[\"MATRICULA\"] = df[\"MATRICULA\"].astype(\"str\")"
   ]
  },
  {
   "cell_type": "code",
   "execution_count": 944,
   "id": "21ac4579",
   "metadata": {},
   "outputs": [],
   "source": [
    "# inclusão de \"0\"s a esquerda nas matrículas que possuem menos do que 7 dígitos\n",
    " \n",
    "for i in df.index:\n",
    "    if len(df[\"MATRICULA\"][i]) == 6:\n",
    "        df[\"MATRICULA\"][i] = df[\"MATRICULA\"][i].replace(df[\"MATRICULA\"][i], \"0\" + df[\"MATRICULA\"][i])\n",
    "    elif len(df[\"MATRICULA\"][i]) == 5:\n",
    "        df[\"MATRICULA\"][i] = df[\"MATRICULA\"][i].replace(df[\"MATRICULA\"][i], \"00\" + df[\"MATRICULA\"][i])\n",
    "    elif len(df[\"MATRICULA\"][i]) == 4:\n",
    "        df[\"MATRICULA\"][i] = df[\"MATRICULA\"][i].replace(df[\"MATRICULA\"][i], \"000\" + df[\"MATRICULA\"][i])    \n",
    "    else:\n",
    "        pass"
   ]
  },
  {
   "cell_type": "code",
   "execution_count": 945,
   "id": "bd4ab078",
   "metadata": {},
   "outputs": [],
   "source": [
    "if mes == 31:\n",
    "    df.loc[(df[\"Dia Inicio\"] == \"01\") & (df[\"Dia Fim\"] == \"31\"), \"Cod_Afast\"] = \"0389\"\n",
    "if mes == 30:\n",
    "    df.loc[(df[\"Dia Inicio\"] == \"01\") & (df[\"Dia Fim\"] == \"30\"), \"Cod_Afast\"] = \"0389\"\n",
    "if mes == 28:\n",
    "    df.loc[(df[\"Dia Inicio\"] == \"01\") & (df[\"Dia Fim\"] == \"28\"), \"Cod_Afast\"] = \"0389\""
   ]
  },
  {
   "cell_type": "code",
   "execution_count": 946,
   "id": "8bb8a0e0",
   "metadata": {},
   "outputs": [],
   "source": [
    "# Criação da coluna TXT, que é o resultdo final e objetivo do programa\n",
    "df[\"TXT\"] = df[\"Padrao\"] + df[\"CPF\"] +df[\"ORGAO\"] +df[\"MATRICULA\"] +df[\"Ano_mes_inicio\"] + df[\"Dia Inicio\"] +df[\"Ano_mes_fim\"] + df[\"Dia Fim\"] + df[\"Cod_Afast\"]"
   ]
  },
  {
   "cell_type": "code",
   "execution_count": 947,
   "id": "671913c1",
   "metadata": {},
   "outputs": [],
   "source": [
    "# Definição da data do dia da execução do programa\n",
    "today = date.today().strftime(\"%d/%m/%Y\")\n",
    "today = today.replace(\"/\", \"-\")"
   ]
  },
  {
   "cell_type": "code",
   "execution_count": 948,
   "id": "82781acd",
   "metadata": {},
   "outputs": [],
   "source": [
    "# Exclusão de todos os registros do servidor fictício criado somente para estabeler os tamanhos e informações padrões\n",
    "df = df.drop(df.loc[df[\"MATRICULA\"] == \"9999999\"].index)"
   ]
  },
  {
   "cell_type": "code",
   "execution_count": 949,
   "id": "5ebf5899",
   "metadata": {},
   "outputs": [],
   "source": [
    "# Exportando o arquivo final. O nome do arquivo será salvo considerando as variáveis nome do Responsável, o ano mes, e a data\n",
    "df.to_excel(\"Carga Batch {} {} em {}.xlsx\".format(nome,mes_ref,today), index=False)"
   ]
  },
  {
   "cell_type": "code",
   "execution_count": 802,
   "id": "4e72b565",
   "metadata": {},
   "outputs": [],
   "source": [
    "# definindo a quantidade de linhas que foram geradas\n",
    "qtd_linhas = df.shape[0]"
   ]
  },
  {
   "cell_type": "code",
   "execution_count": 456,
   "id": "cb14a2c2",
   "metadata": {},
   "outputs": [
    {
     "name": "stdout",
     "output_type": "stream",
     "text": [
      "LEITURA REALIZADA COM SUCESSO, ARQUIVO EM EXCEL SALVO COM O SEGUINTE NOME: Carga Batch ADRIANO 202208 em 14-10-2022.xlsx\n",
      "\n",
      "-------------------------------------------\n",
      "\n",
      "PRIMEIRA LINHA DO ARQUIVO TXT: 037000202208000\n",
      "\n",
      "-------------------------------------------\n",
      "\n",
      "ULTIMA LINHA DO ARQUIVO TXT: 9000017\n"
     ]
    }
   ],
   "source": [
    "# printando informações para o usuário\n",
    "\n",
    "print(\"LEITURA REALIZADA COM SUCESSO, ARQUIVO EM EXCEL SALVO COM O SEGUINTE NOME: Carga Batch {} {} em {}.xlsx\".format(nome,mes_ref,today))\n",
    "print(\"\")\n",
    "print(\"-------------------------------------------\")\n",
    "print(\"\")\n",
    "print(\"PRIMEIRA LINHA DO ARQUIVO TXT: 037000{}000\".format(mes_ref))\n",
    "print(\"\")\n",
    "print(\"-------------------------------------------\")\n",
    "print(\"\")\n",
    "if qtd_linhas < 100:\n",
    "    print(\"ULTIMA LINHA DO ARQUIVO TXT: 90000{}\".format(qtd_linhas))\n",
    "if qtd_linhas > 100 and qtd_linhas < 1000:\n",
    "    print(\"ULTIMA LINHA DO ARQUIVO TXT: 9000{}\".format(qtd_linhas))\n",
    "if qtd_linhas > 1000 and qtd_linhas < 10000:\n",
    "    print(\"ULTIMA LINHA DO ARQUIVO TXT: 900{}\".format(qtd_linhas))"
   ]
  },
  {
   "cell_type": "code",
   "execution_count": null,
   "id": "a005b70d",
   "metadata": {},
   "outputs": [],
   "source": [
    "# exibindo informações para o usuário \n",
    "root= Tk()\n",
    "messagebox.showinfo(\"LEITURA REALIZADA COM SUCESSO\", \"ARQUIVO EM EXCEL SALVO COM O SEGUINTE NOME \\n Carga Batch {} {} em {}.xlsx\".format(nome,mes_ref,today))\n",
    "messagebox.showinfo(\"PRIMEIRA LINHA DO ARQUIVO TXT:\", \" \\n 037000{}000\".format(mes_ref))\n",
    "if qtd_linhas < 100:\n",
    "    messagebox.showinfo(\"ULTIMA LINHA DO ARQUIVO TXT\", \"\\n 90000{}\".format(qtd_linhas))\n",
    "if qtd_linhas > 100 and qtd_linhas < 1000:\n",
    "    messagebox.showinfo(\"ULTIMA LINHA DO ARQUIVO TXT\", \"\\n 9000{}\".format(qtd_linhas))\n",
    "if qtd_linhas > 1000 and qtd_linhas < 10000:\n",
    "    messagebox.showinfo(\"ULTIMA LINHA DO ARQUIVO TXT\", \"\\n 900{}\".format(qtd_linhas))    \n",
    "root.destroy()"
   ]
  }
 ],
 "metadata": {
  "kernelspec": {
   "display_name": "Python 3 (ipykernel)",
   "language": "python",
   "name": "python3"
  },
  "language_info": {
   "codemirror_mode": {
    "name": "ipython",
    "version": 3
   },
   "file_extension": ".py",
   "mimetype": "text/x-python",
   "name": "python",
   "nbconvert_exporter": "python",
   "pygments_lexer": "ipython3",
   "version": "3.10.6"
  }
 },
 "nbformat": 4,
 "nbformat_minor": 5
}
